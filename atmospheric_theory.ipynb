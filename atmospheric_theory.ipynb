{
 "cells": [
  {
   "cell_type": "markdown",
   "metadata": {},
   "source": [
    "# The Atmostphere"
   ]
  },
  {
   "cell_type": "markdown",
   "metadata": {},
   "source": [
    "## Introduction\n",
    "\n",
    "The properties of the air that rockets travel through have a significant impact on flight dynamics. The primary effects are that the air gets thinner (i.e. less dense) as you go higher (which reduces the drag on the rocket), changing air temperature (only decreasing with altitude in the ranges that we fly to) and decreasing pressure."
   ]
  },
  {
   "cell_type": "markdown",
   "metadata": {},
   "source": [
    "### Definitions\n",
    "\n",
    "Let's define some terms that will be used throughout this document:\n",
    "- **Atmosphere**: The layer of gases surrounding the Earth.\n",
    "- **Altitude**: The distance above the Earth's surface. Typically given as the height above sea level (ASL) or above ground level (AGL).\n",
    "- **Apogee**: The highest point in a rocket's trajectory.\n",
    "- **Temperature Gradient**: The rate at which temperature changes with altitude.\n",
    "- MORE\n",
    "\n",
    "have these here or maybe put them somewhere else so that how microscale can't be predicted, mesoscale can be partially predicted can be talked about later when talking about how much can be predicted:\n",
    "\n",
    "- **Microscale Meteorological Phenomena**: Small-scale phenomena that typically span a few meters to a few kilometers. Examples include \n",
    "- **Mesoscale Meteorological Phenomena**: Medium-scale phenomena that typically span a few kilometers to a few hundred kilometers. Examples include \n",
    "- **Synoptic Meteorological Phenomena**: Large-scale phenomena that typically span a few hundred kilometers to a few thousand kilometers. Examples include\n",
    "\n"
   ]
  },
  {
   "cell_type": "markdown",
   "metadata": {},
   "source": [
    "### The layers of the atmosphere\n",
    "\n",
    "The atmosphere is divided into layers based on temperature gradients, chemical composition, and air density. This repository focuses on flight through the lowest layer of the atmosphere, the troposphere, as that is the only layer of the atmosphere that most rockets made by students and hobbyists will reach. However, for completeness, the other layers of the atmosphere are briefly described below. The 5 primary layers of Earth's atmoshpere are:\n",
    "\n",
    "| Name         | Altitude Range | Temperature Gradient | Mass Fraction |\n",
    "|--------------|----------------|----------------------------------| --------------|\n",
    "| Troposphere  | Surface to 6-20 km* | Decreases with altitude | ~80% of the atmosphere's mass |\n",
    "| Stratosphere | 6-20 km to 50 km | Increases with altitude | ~19% of the atmosphere's mass |\n",
    "| Mesosphere   | 50 km to 80 km | Decreases with altitude | ~0.1% of the atmosphere's mass |\n",
    "| Thermosphere | 80 km to 550 km** | Increases with altitude | ~0.002% of the atmosphere's mass |\n",
    "| Exosphere    | 550 km to 10,000 km | N/A*** | N/A |\n",
    "\n",
    "*The altitude range of the troposphere varies, and depends primarily on latitude. It ranges from 6 km at the poles to 20 km at the equator. The transition between the troposphere and stratosphere is called the tropopause. Within the tropopause, the temperature remains relatively constant as altitude increases.\n",
    "\n",
    "**The boundary of space is typically considered to be at an altitude of 100 km, known as the Kármán line. 99.99997% of the atmosphere's mass is below this altitude. The ISS orbits at an altitude of around 400 km, and other satellites in low Earth orbit (LEO) are typically between 160 km and 2,000 km above the Earth's surface.\n",
    "\n",
    "***The exosphere is the transition between the upper atmosphere and cislunar space. The density of air in this layer is so low that the concept of a temperature gradient is no longer meaningful. The thermopause is located at the top of the thermosphere, and is considered the atmospheric boundary of Earth's energy system. \n",
    "\n",
    "Sources:\n",
    "- [NASA](https://science.nasa.gov/earth/earth-atmosphere/earths-atmosphere-a-multi-layered-cake/)\n",
    "- [NOAA](https://www.noaa.gov/jetstream/atmosphere/layers-of-atmosphere)\n",
    "- [Wikipedia - Thermosphere](https://en.wikipedia.org/wiki/Thermosphere)\n",
    "- [Wikipedia - Thermopause](https://en.wikipedia.org/wiki/Thermopause)\n",
    "\n",
    "The following graphic from NOAA [(source)](https://www.noaa.gov/jetstream/atmosphere/layers-of-atmosphere) illustrates an average temperature profile for the Earth's atmosphere:\n",
    "\n",
    "![image](./media/image1.jpg)"
   ]
  },
  {
   "cell_type": "markdown",
   "metadata": {},
   "source": [
    "## Temperature in the Troposphere\n",
    "\n",
    "Temperature in the troposphere decreases in a linear fashion with altitude. \n",
    "\n",
    "\n",
    "\n",
    "The temperature gradient in the troposphere is known as the lapse rate. The standard lapse rate is 6.5°C/km, and is a good approximation for most places that you may fly a rocket. The temperature at some altitude h can be calculated using the formula:\n",
    "\n",
    "\\begin{equation}\n",
    "T(h) = T_0 - L \\cdot h\n",
    "\\end{equation}\n",
    "    \n",
    "Where:\n",
    "- $T(h)$ is the temperature at altitude h\n",
    "- $T_0$ is the temperature at ground level, sea level, or some other reference point\n",
    "- $L$ is the lapse rate\n",
    "- $h$ is the altitude above ground level, sea level, or some other reference point\n",
    "\n",
    "Note that as the lapse rate is a change in temperature with respect to altitude, units of °C and K are equivalent (e.g. 6.5°C/km = 6.5 K/km)."
   ]
  },
  {
   "cell_type": "markdown",
   "metadata": {},
   "source": [
    "### Variability in the Lapse Rate\n",
    "\n",
    "A lapse rate is an average value that can vary significantly depending on the time of day, time of year, location, and weather conditions. The temperature profile that a rocket encounters during flight will invariably differ from that predicted by a perfectly linear lapse rate. However, microscale meteorological phenomena generally don't have a significant impact on the temperature profile that a rocket will encounter, and accounting for mesoscale meteorological phenomena by using data for a specific location at the same time of day and year is more than sufficient for amateur rocketry, and unless you are really trying to target a specific apogee, the standard lapse rate is more than sufficient.\n",
    "\n",
    "Graphs from here show how it can vary in the same location:\n",
    "https://egusphere.copernicus.org/preprints/2023/egusphere-2023-633/egusphere-2023-633.pdf - maybe take that one to show variations in other conditions too, like humidity\n",
    "    - use that one to show how it's not quite perfectly linear\n",
    "\n",
    "Show a graph of temperature vs altitude predicted by the standard lapse rate compared to actual temperature data for that location. Note that the standard lapse rate is good, and using the average of the lapse rate that they found is better, but still not perfect."
   ]
  },
  {
   "cell_type": "code",
   "execution_count": null,
   "metadata": {},
   "outputs": [],
   "source": []
  },
  {
   "cell_type": "markdown",
   "metadata": {},
   "source": [
    "## Pressure and Density"
   ]
  },
  {
   "cell_type": "markdown",
   "metadata": {},
   "source": [
    "Include a visualization of how temperature, pressure, and density change with altitude."
   ]
  },
  {
   "cell_type": "code",
   "execution_count": 8,
   "metadata": {},
   "outputs": [],
   "source": [
    "from air_properties import temp_at_altitude, pressure_at_altitude, air_density_fn\n",
    "import numpy as np\n",
    "import matplotlib.pyplot as plt\n",
    "\n",
    "import constants as con\n",
    "from locations import location_SAC\n",
    "\n",
    "thirty_thousand_feet = 30000 * con.ft_to_m_conversion\n",
    "\n",
    "altitudes = np.linspace(0, thirty_thousand_feet, 1000)\n",
    "temps = np.array([temp_at_altitude(alt, location_SAC.ground_temperature, location_SAC.local_T_lapse_rate) for alt in altitudes])\n",
    "pressures = np.array([pressure_at_altitude(alt, location_SAC.ground_temperature, location_SAC.ground_pressure) for alt in altitudes])\n",
    "densities = np.array([air_density_fn(pressure, temp) for pressure, temp in zip(pressures, temps)])\n",
    "\n",
    "# plot them all on the same graph, with a different y-axis for each, and a shared x-axis which has ticks in both ft (at intervals of 5000) and m (in intervals of 1000)"
   ]
  },
  {
   "cell_type": "markdown",
   "metadata": {},
   "source": [
    "## Wind"
   ]
  },
  {
   "cell_type": "markdown",
   "metadata": {},
   "source": [
    "topics:\n",
    "- relationships between:\n",
    "    - altitude\n",
    "    - temperature\n",
    "    - air pressure\n",
    "    - air density\n",
    "    - speed of sound (or maybe in a different file?)\n",
    "- wind\n",
    "- how these changes affect a rocket's flight dynamics\n",
    "- local variations in\n",
    "    - gravity\n",
    "        - location on Earth (latitude, altitude/elevation)\n",
    "            - visualizations\n",
    "            - https://commons.wikimedia.org/wiki/File:Earth2014shape_SouthAmerica_small.jpg\n",
    "        - change as the rocket goes up (how it's incredibly small for the first few km)\n",
    "    - temperature lapse rate\n",
    "        - could mention how to go about finding it for different locations, how in the upper troposphere the linear lapse rate changes to a constant temperature and then to a temperature inversion - maybe its own ipynb\n",
    "\n"
   ]
  }
 ],
 "metadata": {
  "kernelspec": {
   "display_name": "Python 3",
   "language": "python",
   "name": "python3"
  },
  "language_info": {
   "codemirror_mode": {
    "name": "ipython",
    "version": 3
   },
   "file_extension": ".py",
   "mimetype": "text/x-python",
   "name": "python",
   "nbconvert_exporter": "python",
   "pygments_lexer": "ipython3",
   "version": "3.12.3"
  }
 },
 "nbformat": 4,
 "nbformat_minor": 2
}
